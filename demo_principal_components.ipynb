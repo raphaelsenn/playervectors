{
 "cells": [
  {
   "cell_type": "code",
   "execution_count": 1,
   "metadata": {},
   "outputs": [],
   "source": [
    "import pandas as pd\n",
    "import numpy as np\n",
    "import seaborn as sns\n",
    "import matplotlib.pyplot as plt"
   ]
  },
  {
   "cell_type": "code",
   "execution_count": 2,
   "metadata": {},
   "outputs": [],
   "source": [
    "from sklearn.decomposition import NMF"
   ]
  },
  {
   "cell_type": "code",
   "execution_count": 3,
   "metadata": {},
   "outputs": [],
   "source": [
    "from playervectors import PlayerHeatMap\n",
    "from ExtractData import ExtractCoordinates, ExtractPlayers, ExtractTeams, ExtractMinutesPlayed"
   ]
  },
  {
   "cell_type": "markdown",
   "metadata": {},
   "source": [
    "## Load: Event Streams"
   ]
  },
  {
   "cell_type": "code",
   "execution_count": 4,
   "metadata": {},
   "outputs": [
    {
     "data": {
      "text/html": [
       "<div>\n",
       "<style scoped>\n",
       "    .dataframe tbody tr th:only-of-type {\n",
       "        vertical-align: middle;\n",
       "    }\n",
       "\n",
       "    .dataframe tbody tr th {\n",
       "        vertical-align: top;\n",
       "    }\n",
       "\n",
       "    .dataframe thead th {\n",
       "        text-align: right;\n",
       "    }\n",
       "</style>\n",
       "<table border=\"1\" class=\"dataframe\">\n",
       "  <thead>\n",
       "    <tr style=\"text-align: right;\">\n",
       "      <th></th>\n",
       "      <th>eventId</th>\n",
       "      <th>subEventName</th>\n",
       "      <th>tags</th>\n",
       "      <th>playerId</th>\n",
       "      <th>positions</th>\n",
       "      <th>matchId</th>\n",
       "      <th>eventName</th>\n",
       "      <th>teamId</th>\n",
       "      <th>matchPeriod</th>\n",
       "      <th>eventSec</th>\n",
       "      <th>subEventId</th>\n",
       "      <th>id</th>\n",
       "      <th>tagsList</th>\n",
       "      <th>pos_orig_y</th>\n",
       "      <th>pos_orig_x</th>\n",
       "      <th>pos_dest_y</th>\n",
       "      <th>pos_dest_x</th>\n",
       "    </tr>\n",
       "  </thead>\n",
       "  <tbody>\n",
       "    <tr>\n",
       "      <th>0</th>\n",
       "      <td>8</td>\n",
       "      <td>Simple pass</td>\n",
       "      <td>[{'id': 1801}]</td>\n",
       "      <td>15231</td>\n",
       "      <td>[{'y': 50, 'x': 50}, {'y': 48, 'x': 50}]</td>\n",
       "      <td>2516739</td>\n",
       "      <td>Pass</td>\n",
       "      <td>2446</td>\n",
       "      <td>1H</td>\n",
       "      <td>2.409746</td>\n",
       "      <td>85.0</td>\n",
       "      <td>179896442</td>\n",
       "      <td>[1801]</td>\n",
       "      <td>50</td>\n",
       "      <td>50</td>\n",
       "      <td>48</td>\n",
       "      <td>50</td>\n",
       "    </tr>\n",
       "    <tr>\n",
       "      <th>1</th>\n",
       "      <td>8</td>\n",
       "      <td>Simple pass</td>\n",
       "      <td>[{'id': 1801}]</td>\n",
       "      <td>14786</td>\n",
       "      <td>[{'y': 48, 'x': 50}, {'y': 22, 'x': 22}]</td>\n",
       "      <td>2516739</td>\n",
       "      <td>Pass</td>\n",
       "      <td>2446</td>\n",
       "      <td>1H</td>\n",
       "      <td>2.506082</td>\n",
       "      <td>85.0</td>\n",
       "      <td>179896443</td>\n",
       "      <td>[1801]</td>\n",
       "      <td>48</td>\n",
       "      <td>50</td>\n",
       "      <td>22</td>\n",
       "      <td>22</td>\n",
       "    </tr>\n",
       "    <tr>\n",
       "      <th>2</th>\n",
       "      <td>8</td>\n",
       "      <td>Simple pass</td>\n",
       "      <td>[{'id': 1801}]</td>\n",
       "      <td>14803</td>\n",
       "      <td>[{'y': 22, 'x': 22}, {'y': 46, 'x': 6}]</td>\n",
       "      <td>2516739</td>\n",
       "      <td>Pass</td>\n",
       "      <td>2446</td>\n",
       "      <td>1H</td>\n",
       "      <td>6.946706</td>\n",
       "      <td>85.0</td>\n",
       "      <td>179896444</td>\n",
       "      <td>[1801]</td>\n",
       "      <td>22</td>\n",
       "      <td>22</td>\n",
       "      <td>46</td>\n",
       "      <td>6</td>\n",
       "    </tr>\n",
       "    <tr>\n",
       "      <th>3</th>\n",
       "      <td>8</td>\n",
       "      <td>Simple pass</td>\n",
       "      <td>[{'id': 1801}]</td>\n",
       "      <td>14768</td>\n",
       "      <td>[{'y': 46, 'x': 6}, {'y': 10, 'x': 20}]</td>\n",
       "      <td>2516739</td>\n",
       "      <td>Pass</td>\n",
       "      <td>2446</td>\n",
       "      <td>1H</td>\n",
       "      <td>10.786491</td>\n",
       "      <td>85.0</td>\n",
       "      <td>179896445</td>\n",
       "      <td>[1801]</td>\n",
       "      <td>46</td>\n",
       "      <td>6</td>\n",
       "      <td>10</td>\n",
       "      <td>20</td>\n",
       "    </tr>\n",
       "    <tr>\n",
       "      <th>4</th>\n",
       "      <td>8</td>\n",
       "      <td>Simple pass</td>\n",
       "      <td>[{'id': 1801}]</td>\n",
       "      <td>14803</td>\n",
       "      <td>[{'y': 10, 'x': 20}, {'y': 4, 'x': 27}]</td>\n",
       "      <td>2516739</td>\n",
       "      <td>Pass</td>\n",
       "      <td>2446</td>\n",
       "      <td>1H</td>\n",
       "      <td>12.684514</td>\n",
       "      <td>85.0</td>\n",
       "      <td>179896446</td>\n",
       "      <td>[1801]</td>\n",
       "      <td>10</td>\n",
       "      <td>20</td>\n",
       "      <td>4</td>\n",
       "      <td>27</td>\n",
       "    </tr>\n",
       "  </tbody>\n",
       "</table>\n",
       "</div>"
      ],
      "text/plain": [
       "   eventId subEventName            tags  playerId  \\\n",
       "0        8  Simple pass  [{'id': 1801}]     15231   \n",
       "1        8  Simple pass  [{'id': 1801}]     14786   \n",
       "2        8  Simple pass  [{'id': 1801}]     14803   \n",
       "3        8  Simple pass  [{'id': 1801}]     14768   \n",
       "4        8  Simple pass  [{'id': 1801}]     14803   \n",
       "\n",
       "                                  positions  matchId eventName  teamId  \\\n",
       "0  [{'y': 50, 'x': 50}, {'y': 48, 'x': 50}]  2516739      Pass    2446   \n",
       "1  [{'y': 48, 'x': 50}, {'y': 22, 'x': 22}]  2516739      Pass    2446   \n",
       "2   [{'y': 22, 'x': 22}, {'y': 46, 'x': 6}]  2516739      Pass    2446   \n",
       "3   [{'y': 46, 'x': 6}, {'y': 10, 'x': 20}]  2516739      Pass    2446   \n",
       "4   [{'y': 10, 'x': 20}, {'y': 4, 'x': 27}]  2516739      Pass    2446   \n",
       "\n",
       "  matchPeriod   eventSec  subEventId         id tagsList  pos_orig_y  \\\n",
       "0          1H   2.409746        85.0  179896442   [1801]          50   \n",
       "1          1H   2.506082        85.0  179896443   [1801]          48   \n",
       "2          1H   6.946706        85.0  179896444   [1801]          22   \n",
       "3          1H  10.786491        85.0  179896445   [1801]          46   \n",
       "4          1H  12.684514        85.0  179896446   [1801]          10   \n",
       "\n",
       "   pos_orig_x  pos_dest_y  pos_dest_x  \n",
       "0          50          48          50  \n",
       "1          50          22          22  \n",
       "2          22          46           6  \n",
       "3           6          10          20  \n",
       "4          20           4          27  "
      ]
     },
     "execution_count": 4,
     "metadata": {},
     "output_type": "execute_result"
    }
   ],
   "source": [
    "df_events = pd.read_csv('event_streams/events_Germany.csv')\n",
    "df_events.head()"
   ]
  },
  {
   "cell_type": "markdown",
   "metadata": {},
   "source": [
    "#### Select Relevant Actions with respect to thier x,y coordinates\n"
   ]
  },
  {
   "cell_type": "code",
   "execution_count": 5,
   "metadata": {},
   "outputs": [],
   "source": [
    "# {action -> {playerID -> ([list of x coordinates], [list of y coordinates])}}\n",
    "# We select here: Shot, Pass, Cross, Duell\n",
    "coordinates = ExtractCoordinates(df=df_events, column_player_id='playerId', column_event_name='eventName', column_x='pos_orig_x', column_y='pos_orig_y', actions=['Shot', 'Pass', 'Cross', 'Duell'])"
   ]
  },
  {
   "cell_type": "markdown",
   "metadata": {},
   "source": [
    "## Load: Players"
   ]
  },
  {
   "cell_type": "code",
   "execution_count": 6,
   "metadata": {},
   "outputs": [
    {
     "data": {
      "text/html": [
       "<div>\n",
       "<style scoped>\n",
       "    .dataframe tbody tr th:only-of-type {\n",
       "        vertical-align: middle;\n",
       "    }\n",
       "\n",
       "    .dataframe tbody tr th {\n",
       "        vertical-align: top;\n",
       "    }\n",
       "\n",
       "    .dataframe thead th {\n",
       "        text-align: right;\n",
       "    }\n",
       "</style>\n",
       "<table border=\"1\" class=\"dataframe\">\n",
       "  <thead>\n",
       "    <tr style=\"text-align: right;\">\n",
       "      <th></th>\n",
       "      <th>passportArea</th>\n",
       "      <th>weight</th>\n",
       "      <th>firstName</th>\n",
       "      <th>middleName</th>\n",
       "      <th>lastName</th>\n",
       "      <th>currentTeamId</th>\n",
       "      <th>birthDate</th>\n",
       "      <th>height</th>\n",
       "      <th>role</th>\n",
       "      <th>birthArea</th>\n",
       "      <th>wyId</th>\n",
       "      <th>foot</th>\n",
       "      <th>shortName</th>\n",
       "      <th>currentNationalTeamId</th>\n",
       "    </tr>\n",
       "  </thead>\n",
       "  <tbody>\n",
       "    <tr>\n",
       "      <th>0</th>\n",
       "      <td>{'name': 'Turkey', 'id': '792', 'alpha3code': ...</td>\n",
       "      <td>78</td>\n",
       "      <td>Harun</td>\n",
       "      <td>NaN</td>\n",
       "      <td>Tekin</td>\n",
       "      <td>4502.0</td>\n",
       "      <td>1989-06-17</td>\n",
       "      <td>187</td>\n",
       "      <td>{'code2': 'GK', 'code3': 'GKP', 'name': 'Goalk...</td>\n",
       "      <td>{'name': 'Turkey', 'id': '792', 'alpha3code': ...</td>\n",
       "      <td>32777</td>\n",
       "      <td>right</td>\n",
       "      <td>H. Tekin</td>\n",
       "      <td>4687.0</td>\n",
       "    </tr>\n",
       "    <tr>\n",
       "      <th>1</th>\n",
       "      <td>{'name': 'Senegal', 'id': '686', 'alpha3code':...</td>\n",
       "      <td>73</td>\n",
       "      <td>Malang</td>\n",
       "      <td>NaN</td>\n",
       "      <td>Sarr</td>\n",
       "      <td>3775.0</td>\n",
       "      <td>1999-01-23</td>\n",
       "      <td>182</td>\n",
       "      <td>{'code2': 'DF', 'code3': 'DEF', 'name': 'Defen...</td>\n",
       "      <td>{'name': 'France', 'id': '250', 'alpha3code': ...</td>\n",
       "      <td>393228</td>\n",
       "      <td>left</td>\n",
       "      <td>M. Sarr</td>\n",
       "      <td>4423.0</td>\n",
       "    </tr>\n",
       "    <tr>\n",
       "      <th>2</th>\n",
       "      <td>{'name': 'France', 'id': '250', 'alpha3code': ...</td>\n",
       "      <td>72</td>\n",
       "      <td>Over</td>\n",
       "      <td>NaN</td>\n",
       "      <td>Mandanda</td>\n",
       "      <td>3772.0</td>\n",
       "      <td>1998-10-26</td>\n",
       "      <td>176</td>\n",
       "      <td>{'code2': 'GK', 'code3': 'GKP', 'name': 'Goalk...</td>\n",
       "      <td>{'name': 'France', 'id': '250', 'alpha3code': ...</td>\n",
       "      <td>393230</td>\n",
       "      <td>NaN</td>\n",
       "      <td>O. Mandanda</td>\n",
       "      <td>NaN</td>\n",
       "    </tr>\n",
       "    <tr>\n",
       "      <th>3</th>\n",
       "      <td>{'name': 'Senegal', 'id': '686', 'alpha3code':...</td>\n",
       "      <td>82</td>\n",
       "      <td>Alfred John Momar</td>\n",
       "      <td>NaN</td>\n",
       "      <td>N'Diaye</td>\n",
       "      <td>683.0</td>\n",
       "      <td>1990-03-06</td>\n",
       "      <td>187</td>\n",
       "      <td>{'code2': 'MD', 'code3': 'MID', 'name': 'Midfi...</td>\n",
       "      <td>{'name': 'France', 'id': '250', 'alpha3code': ...</td>\n",
       "      <td>32793</td>\n",
       "      <td>right</td>\n",
       "      <td>A. N'Diaye</td>\n",
       "      <td>19314.0</td>\n",
       "    </tr>\n",
       "    <tr>\n",
       "      <th>4</th>\n",
       "      <td>{'name': 'France', 'id': '250', 'alpha3code': ...</td>\n",
       "      <td>84</td>\n",
       "      <td>Ibrahima</td>\n",
       "      <td>NaN</td>\n",
       "      <td>Konat\\u00e9</td>\n",
       "      <td>2975.0</td>\n",
       "      <td>1999-05-25</td>\n",
       "      <td>192</td>\n",
       "      <td>{'code2': 'DF', 'code3': 'DEF', 'name': 'Defen...</td>\n",
       "      <td>{'name': 'France', 'id': '250', 'alpha3code': ...</td>\n",
       "      <td>393247</td>\n",
       "      <td>right</td>\n",
       "      <td>I. Konat\\u00e9</td>\n",
       "      <td>NaN</td>\n",
       "    </tr>\n",
       "  </tbody>\n",
       "</table>\n",
       "</div>"
      ],
      "text/plain": [
       "                                        passportArea  weight  \\\n",
       "0  {'name': 'Turkey', 'id': '792', 'alpha3code': ...      78   \n",
       "1  {'name': 'Senegal', 'id': '686', 'alpha3code':...      73   \n",
       "2  {'name': 'France', 'id': '250', 'alpha3code': ...      72   \n",
       "3  {'name': 'Senegal', 'id': '686', 'alpha3code':...      82   \n",
       "4  {'name': 'France', 'id': '250', 'alpha3code': ...      84   \n",
       "\n",
       "           firstName  middleName     lastName  currentTeamId   birthDate  \\\n",
       "0              Harun         NaN        Tekin         4502.0  1989-06-17   \n",
       "1             Malang         NaN         Sarr         3775.0  1999-01-23   \n",
       "2               Over         NaN     Mandanda         3772.0  1998-10-26   \n",
       "3  Alfred John Momar         NaN      N'Diaye          683.0  1990-03-06   \n",
       "4           Ibrahima         NaN  Konat\\u00e9         2975.0  1999-05-25   \n",
       "\n",
       "   height                                               role  \\\n",
       "0     187  {'code2': 'GK', 'code3': 'GKP', 'name': 'Goalk...   \n",
       "1     182  {'code2': 'DF', 'code3': 'DEF', 'name': 'Defen...   \n",
       "2     176  {'code2': 'GK', 'code3': 'GKP', 'name': 'Goalk...   \n",
       "3     187  {'code2': 'MD', 'code3': 'MID', 'name': 'Midfi...   \n",
       "4     192  {'code2': 'DF', 'code3': 'DEF', 'name': 'Defen...   \n",
       "\n",
       "                                           birthArea    wyId   foot  \\\n",
       "0  {'name': 'Turkey', 'id': '792', 'alpha3code': ...   32777  right   \n",
       "1  {'name': 'France', 'id': '250', 'alpha3code': ...  393228   left   \n",
       "2  {'name': 'France', 'id': '250', 'alpha3code': ...  393230    NaN   \n",
       "3  {'name': 'France', 'id': '250', 'alpha3code': ...   32793  right   \n",
       "4  {'name': 'France', 'id': '250', 'alpha3code': ...  393247  right   \n",
       "\n",
       "        shortName  currentNationalTeamId  \n",
       "0        H. Tekin                 4687.0  \n",
       "1         M. Sarr                 4423.0  \n",
       "2     O. Mandanda                    NaN  \n",
       "3      A. N'Diaye                19314.0  \n",
       "4  I. Konat\\u00e9                    NaN  "
      ]
     },
     "execution_count": 6,
     "metadata": {},
     "output_type": "execute_result"
    }
   ],
   "source": [
    "df_players = pd.read_csv('event_streams/players.csv')\n",
    "df_players.head()"
   ]
  },
  {
   "cell_type": "markdown",
   "metadata": {},
   "source": [
    "#### Extract Player Information"
   ]
  },
  {
   "cell_type": "code",
   "execution_count": 7,
   "metadata": {},
   "outputs": [],
   "source": [
    "# Extract Players\n",
    "# Mapping {playerID -> [list of selected attributes]}\n",
    "players = ExtractPlayers(df=df_players, wy_id='wyId', attributes=['firstName', 'lastName', 'currentTeamId'])"
   ]
  },
  {
   "cell_type": "code",
   "execution_count": 8,
   "metadata": {},
   "outputs": [
    {
     "data": {
      "text/html": [
       "<div>\n",
       "<style scoped>\n",
       "    .dataframe tbody tr th:only-of-type {\n",
       "        vertical-align: middle;\n",
       "    }\n",
       "\n",
       "    .dataframe tbody tr th {\n",
       "        vertical-align: top;\n",
       "    }\n",
       "\n",
       "    .dataframe thead th {\n",
       "        text-align: right;\n",
       "    }\n",
       "</style>\n",
       "<table border=\"1\" class=\"dataframe\">\n",
       "  <thead>\n",
       "    <tr style=\"text-align: right;\">\n",
       "      <th></th>\n",
       "      <th>goalScored</th>\n",
       "      <th>playerankScore</th>\n",
       "      <th>matchId</th>\n",
       "      <th>playerId</th>\n",
       "      <th>roleCluster</th>\n",
       "      <th>minutesPlayed</th>\n",
       "    </tr>\n",
       "  </thead>\n",
       "  <tbody>\n",
       "    <tr>\n",
       "      <th>0</th>\n",
       "      <td>0</td>\n",
       "      <td>0.0053</td>\n",
       "      <td>2057991</td>\n",
       "      <td>10014</td>\n",
       "      <td>right CB</td>\n",
       "      <td>90</td>\n",
       "    </tr>\n",
       "    <tr>\n",
       "      <th>1</th>\n",
       "      <td>0</td>\n",
       "      <td>0.0009</td>\n",
       "      <td>2057992</td>\n",
       "      <td>10014</td>\n",
       "      <td>right CB</td>\n",
       "      <td>41</td>\n",
       "    </tr>\n",
       "    <tr>\n",
       "      <th>2</th>\n",
       "      <td>0</td>\n",
       "      <td>-0.0013</td>\n",
       "      <td>2057998</td>\n",
       "      <td>100140</td>\n",
       "      <td>central MF</td>\n",
       "      <td>90</td>\n",
       "    </tr>\n",
       "    <tr>\n",
       "      <th>3</th>\n",
       "      <td>0</td>\n",
       "      <td>0.0031</td>\n",
       "      <td>2058000</td>\n",
       "      <td>100140</td>\n",
       "      <td>left CB</td>\n",
       "      <td>90</td>\n",
       "    </tr>\n",
       "    <tr>\n",
       "      <th>4</th>\n",
       "      <td>0</td>\n",
       "      <td>0.0035</td>\n",
       "      <td>2499869</td>\n",
       "      <td>10108</td>\n",
       "      <td>right CB</td>\n",
       "      <td>90</td>\n",
       "    </tr>\n",
       "  </tbody>\n",
       "</table>\n",
       "</div>"
      ],
      "text/plain": [
       "   goalScored  playerankScore  matchId  playerId roleCluster  minutesPlayed\n",
       "0           0          0.0053  2057991     10014    right CB             90\n",
       "1           0          0.0009  2057992     10014    right CB             41\n",
       "2           0         -0.0013  2057998    100140  central MF             90\n",
       "3           0          0.0031  2058000    100140     left CB             90\n",
       "4           0          0.0035  2499869     10108    right CB             90"
      ]
     },
     "execution_count": 8,
     "metadata": {},
     "output_type": "execute_result"
    }
   ],
   "source": [
    "df_playerank = pd.read_csv('event_streams/playerank.csv')\n",
    "df_playerank.head()"
   ]
  },
  {
   "cell_type": "markdown",
   "metadata": {},
   "source": [
    "#### Extract Played Minutes"
   ]
  },
  {
   "cell_type": "code",
   "execution_count": 9,
   "metadata": {},
   "outputs": [],
   "source": [
    "# Extract played minutes\n",
    "# Mapping {playerID -> minutes}\n",
    "minutes_played = ExtractMinutesPlayed(df=df_playerank, column_player='playerId', column_minutes='minutesPlayed')"
   ]
  },
  {
   "cell_type": "markdown",
   "metadata": {},
   "source": [
    "## Load: Teams"
   ]
  },
  {
   "cell_type": "code",
   "execution_count": 10,
   "metadata": {},
   "outputs": [
    {
     "data": {
      "text/html": [
       "<div>\n",
       "<style scoped>\n",
       "    .dataframe tbody tr th:only-of-type {\n",
       "        vertical-align: middle;\n",
       "    }\n",
       "\n",
       "    .dataframe tbody tr th {\n",
       "        vertical-align: top;\n",
       "    }\n",
       "\n",
       "    .dataframe thead th {\n",
       "        text-align: right;\n",
       "    }\n",
       "</style>\n",
       "<table border=\"1\" class=\"dataframe\">\n",
       "  <thead>\n",
       "    <tr style=\"text-align: right;\">\n",
       "      <th></th>\n",
       "      <th>city</th>\n",
       "      <th>name</th>\n",
       "      <th>wyId</th>\n",
       "      <th>officialName</th>\n",
       "      <th>area</th>\n",
       "      <th>type</th>\n",
       "    </tr>\n",
       "  </thead>\n",
       "  <tbody>\n",
       "    <tr>\n",
       "      <th>0</th>\n",
       "      <td>Newcastle upon Tyne</td>\n",
       "      <td>Newcastle United</td>\n",
       "      <td>1613</td>\n",
       "      <td>Newcastle United FC</td>\n",
       "      <td>{'name': 'England', 'id': '0', 'alpha3code': '...</td>\n",
       "      <td>club</td>\n",
       "    </tr>\n",
       "    <tr>\n",
       "      <th>1</th>\n",
       "      <td>Vigo</td>\n",
       "      <td>Celta de Vigo</td>\n",
       "      <td>692</td>\n",
       "      <td>Real Club Celta de Vigo</td>\n",
       "      <td>{'name': 'Spain', 'id': '724', 'alpha3code': '...</td>\n",
       "      <td>club</td>\n",
       "    </tr>\n",
       "    <tr>\n",
       "      <th>2</th>\n",
       "      <td>Barcelona</td>\n",
       "      <td>Espanyol</td>\n",
       "      <td>691</td>\n",
       "      <td>Reial Club Deportiu Espanyol</td>\n",
       "      <td>{'name': 'Spain', 'id': '724', 'alpha3code': '...</td>\n",
       "      <td>club</td>\n",
       "    </tr>\n",
       "    <tr>\n",
       "      <th>3</th>\n",
       "      <td>Vitoria-Gasteiz</td>\n",
       "      <td>Deportivo Alav\\u00e9s</td>\n",
       "      <td>696</td>\n",
       "      <td>Deportivo Alav\\u00e9s</td>\n",
       "      <td>{'name': 'Spain', 'id': '724', 'alpha3code': '...</td>\n",
       "      <td>club</td>\n",
       "    </tr>\n",
       "    <tr>\n",
       "      <th>4</th>\n",
       "      <td>Valencia</td>\n",
       "      <td>Levante</td>\n",
       "      <td>695</td>\n",
       "      <td>Levante UD</td>\n",
       "      <td>{'name': 'Spain', 'id': '724', 'alpha3code': '...</td>\n",
       "      <td>club</td>\n",
       "    </tr>\n",
       "  </tbody>\n",
       "</table>\n",
       "</div>"
      ],
      "text/plain": [
       "                  city                   name  wyId  \\\n",
       "0  Newcastle upon Tyne       Newcastle United  1613   \n",
       "1                 Vigo          Celta de Vigo   692   \n",
       "2            Barcelona               Espanyol   691   \n",
       "3      Vitoria-Gasteiz  Deportivo Alav\\u00e9s   696   \n",
       "4             Valencia                Levante   695   \n",
       "\n",
       "                   officialName  \\\n",
       "0           Newcastle United FC   \n",
       "1       Real Club Celta de Vigo   \n",
       "2  Reial Club Deportiu Espanyol   \n",
       "3         Deportivo Alav\\u00e9s   \n",
       "4                    Levante UD   \n",
       "\n",
       "                                                area  type  \n",
       "0  {'name': 'England', 'id': '0', 'alpha3code': '...  club  \n",
       "1  {'name': 'Spain', 'id': '724', 'alpha3code': '...  club  \n",
       "2  {'name': 'Spain', 'id': '724', 'alpha3code': '...  club  \n",
       "3  {'name': 'Spain', 'id': '724', 'alpha3code': '...  club  \n",
       "4  {'name': 'Spain', 'id': '724', 'alpha3code': '...  club  "
      ]
     },
     "execution_count": 10,
     "metadata": {},
     "output_type": "execute_result"
    }
   ],
   "source": [
    "df_teams = pd.read_csv('event_streams/teams.csv')\n",
    "df_teams.head()"
   ]
  },
  {
   "cell_type": "markdown",
   "metadata": {},
   "source": [
    "#### Extract Team Information"
   ]
  },
  {
   "cell_type": "code",
   "execution_count": 11,
   "metadata": {},
   "outputs": [],
   "source": [
    "# Extracting Team Information\n",
    "# Mapping {teamID -> [selected attributes e.g. TeamName, City, ...]}\n",
    "\n",
    "teams = ExtractTeams(df=df_teams, wy_id='wyId', attributes=['name'])"
   ]
  },
  {
   "cell_type": "code",
   "execution_count": 12,
   "metadata": {},
   "outputs": [],
   "source": [
    "# Mapping {teamID -> [list of playerIDs]}\n",
    "teamID_to_playerIDs = {}\n",
    "\n",
    "# Mapping {playerID -> Player Name}\n",
    "playersID_to_name = {}\n",
    "\n",
    "for playerID, attributes in players.items():\n",
    "    first, last, teamID = attributes[0], str(attributes[1]), str(attributes[2])\n",
    "    \n",
    "    if teamID not in teamID_to_playerIDs:\n",
    "        teamID_to_playerIDs[teamID] = [playerID]\n",
    "    else:\n",
    "        teamID_to_playerIDs[teamID].append(playerID)\n",
    "    \n",
    "    if playerID not in playersID_to_name:\n",
    "        playersID_to_name[playerID] = f'{first} {last}'"
   ]
  },
  {
   "cell_type": "markdown",
   "metadata": {},
   "source": [
    "## Visualizing Principal Components for Actions: Shot, Cross, Dribble, Pass"
   ]
  },
  {
   "cell_type": "markdown",
   "metadata": {},
   "source": [
    "### Principal Components for action: Shot"
   ]
  },
  {
   "cell_type": "markdown",
   "metadata": {},
   "source": [
    "#### Building HeatMaps for Action: Shot"
   ]
  },
  {
   "cell_type": "code",
   "execution_count": 13,
   "metadata": {},
   "outputs": [],
   "source": [
    "# Hyperparameters\n",
    "M, N = 50, 50\n",
    "\n",
    "k = 1\n",
    "sigma = 8.0\n",
    "action = 'Shot'\n",
    "playerID_to_heatmap = {}\n",
    "for playerID, pairXY in list(coordinates[action].items()):\n",
    "    x, y = pairXY[0], pairXY[1] \n",
    "\n",
    "    # Check for played minutes \n",
    "    minutes = 0.0 \n",
    "    if playerID in minutes_played: \n",
    "        minutes = minutes_played[playerID] \n",
    "\n",
    "    # Check for player name\n",
    "    player_name = None\n",
    "    if playerID in playersID_to_name:\n",
    "        player_name = playersID_to_name[playerID]\n",
    "\n",
    "    # Build Player-Vectors\n",
    "    heatmap = PlayerHeatMap(shape=(M, N),\n",
    "                            player_name=player_name,\n",
    "                            player_id=playerID,\n",
    "                            action_name=action,\n",
    "                            sigma=sigma)\n",
    "    \n",
    "    # 1 - 3: Counting + Normalizing + Smoothing\n",
    "    heatmap.fit(x, y, minutes)\n",
    "\n",
    "    playerID_to_heatmap[playerID] = heatmap"
   ]
  },
  {
   "cell_type": "code",
   "execution_count": 14,
   "metadata": {},
   "outputs": [],
   "source": [
    "# 4 Shot components\n",
    "k_components = 4\n",
    "num_players = len(playerID_to_heatmap)\n",
    "\n",
    "# In the paper this is done by using a matrix called M, i call it A\n",
    "A = []\n",
    "\n",
    "# Calculate A\n",
    "for _, X in playerID_to_heatmap.items():\n",
    "    X_reshape = X.heatmap_.reshape(M * N, 1)\n",
    "    A.append(X_reshape)\n",
    "A = np.array(A).reshape(num_players, N * M)"
   ]
  },
  {
   "cell_type": "code",
   "execution_count": 15,
   "metadata": {},
   "outputs": [
    {
     "name": "stdout",
     "output_type": "stream",
     "text": [
      "Number of Players: 392\n",
      "A shape: (392, 2500)\n"
     ]
    }
   ],
   "source": [
    "print(f'Number of Players: {num_players}')\n",
    "print(f'A shape: {A.shape}')"
   ]
  },
  {
   "cell_type": "markdown",
   "metadata": {},
   "source": [
    "#### Using NMF"
   ]
  },
  {
   "cell_type": "code",
   "execution_count": 16,
   "metadata": {},
   "outputs": [],
   "source": [
    "model = NMF(n_components=k_components, init='random', random_state=0)\n",
    "W = model.fit_transform(A)\n",
    "H = model.components_"
   ]
  },
  {
   "cell_type": "code",
   "execution_count": 17,
   "metadata": {},
   "outputs": [
    {
     "name": "stdout",
     "output_type": "stream",
     "text": [
      "Shape of W: (392, 4)\n",
      "Shape of H: (4, 2500)\n"
     ]
    }
   ],
   "source": [
    "print(f'Shape of W: {W.shape}')\n",
    "print(f'Shape of H: {H.shape}')"
   ]
  },
  {
   "cell_type": "code",
   "execution_count": 18,
   "metadata": {},
   "outputs": [
    {
     "data": {
      "image/png": "[encoded data removed]",
      "text/plain": [
       "<Figure size 1600x800 with 8 Axes>"
      ]
     },
     "metadata": {},
     "output_type": "display_data"
    }
   ],
   "source": [
    "fig, axes = plt.subplots(nrows=2, ncols=2, figsize=(16, 8))\n",
    "for k in range(k_components):\n",
    "    H_k = H[k]\n",
    "    H_k = H_k.reshape(N, M)\n",
    "    ax = axes[k // 2, k % 2]\n",
    "    sns.heatmap(H_k, ax=ax, cbar=True)\n",
    "    ax.set_title(f'Shot Component {k + 1}')\n",
    "plt.show()"
   ]
  }
 ],
 "metadata": {
  "kernelspec": {
   "display_name": "Python 3",
   "language": "python",
   "name": "python3"
  },
  "language_info": {
   "codemirror_mode": {
    "name": "ipython",
    "version": 3
   },
   "file_extension": ".py",
   "mimetype": "text/x-python",
   "name": "python",
   "nbconvert_exporter": "python",
   "pygments_lexer": "ipython3",
   "version": "3.12.5"
  }
 },
 "nbformat": 4,
 "nbformat_minor": 2
}
