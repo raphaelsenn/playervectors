{
 "cells": [
  {
   "cell_type": "markdown",
   "metadata": {},
   "source": [
    "# Intuition\n",
    "Evaluating Player Vectors is challenging as no objective ground truth exists for characterizing playing style."
   ]
  },
  {
   "cell_type": "code",
   "execution_count": 1,
   "metadata": {},
   "outputs": [],
   "source": [
    "import pandas as pd\n",
    "import numpy as np\n",
    "import seaborn as sns\n",
    "import csv\n",
    "import matplotlib.pyplot as plt\n",
    "import warnings\n",
    "from sklearn.decomposition import NMF\n",
    "\n",
    "from src.playervectors import PlayerVectors\n",
    "\n",
    "from src.ExtractData import (\n",
    "    ExtractCoordinates, \n",
    "    ExtractPlayers, \n",
    "    ExtractTeams, \n",
    "    ExtractMinutesPlayed, \n",
    "    ExtractGoalkeepers \n",
    ")"
   ]
  },
  {
   "cell_type": "markdown",
   "metadata": {},
   "source": [
    "## Load: Players"
   ]
  },
  {
   "cell_type": "code",
   "execution_count": 2,
   "metadata": {},
   "outputs": [],
   "source": [
    "df_players = pd.read_csv('event_streams/players.csv')\n",
    "df_playerank = pd.read_csv('event_streams/playerank.csv')\n",
    "\n",
    "# Extract Player Information\n",
    "# Mapping {player_id -> [list of selected attributes]}\n",
    "players = ExtractPlayers(df=df_players, wy_id='wyId', attributes=['firstName', 'lastName', 'currentTeamId'])\n",
    "\n",
    "# Extract Goalkeepers\n",
    "# Mapping player_id -> None\n",
    "keepers = ExtractGoalkeepers(df_players, wy_code='name', keeper_str='Goalkeeper')\n",
    "\n",
    "# Group action indices by game id in a list\n",
    "minutes = df_playerank.groupby('matchId').apply(lambda x: x.index.tolist(), include_groups=False).to_dict()\n",
    "\n",
    "# List of dictionary of played minutes for each game_id\n",
    "minutes_played = []\n",
    "for game_id, indices in minutes.items():\n",
    "    df = df_playerank.loc[indices]\n",
    "    minutes_played.append(ExtractMinutesPlayed(df=df,\n",
    "                                               column_player='playerId',\n",
    "                                               column_minutes='minutesPlayed'))"
   ]
  },
  {
   "cell_type": "markdown",
   "metadata": {},
   "source": [
    "## Load: Event Streams"
   ]
  },
  {
   "cell_type": "code",
   "execution_count": 3,
   "metadata": {},
   "outputs": [],
   "source": [
    "df_events = pd.read_csv('event_streams/actions.csv')\n",
    "\n",
    "# Normalize playing direction\n",
    "df_events['start_x'] = 100 - df_events['start_x']\n",
    "df_events['start_y'] = 100 - df_events['start_y']\n",
    "\n",
    "# Extract relevant action coordinates\n",
    "# {action -> {playerID -> ([list of x coordinates], [list of y coordinates])}}\n",
    "coordinates = ExtractCoordinates(df=df_events,\n",
    "                                 column_player_id='player_id',\n",
    "                                 column_event_name='type_name',\n",
    "                                 column_x='start_x',\n",
    "                                 column_y='start_y',\n",
    "                                 actions=['pass', 'cross', 'dribble', 'shot'])\n",
    "\n",
    "# Fine tuning: Remove Goalkeepers\n",
    "for action, player_coordinates in coordinates.items():\n",
    "    # Create a list of player IDs to be removed\n",
    "    players_to_remove = [player_id for player_id in player_coordinates if player_id in keepers]\n",
    "    \n",
    "    # Remove players from the action dictionary\n",
    "    for player_id in players_to_remove:\n",
    "        del coordinates[action][player_id]\n",
    "\n",
    "# Mapping game_id to list of all player_ids in that game\n",
    "game_player_mapping = df_events.groupby('game_id')['player_id'].unique().apply(list).to_dict()"
   ]
  },
  {
   "cell_type": "markdown",
   "metadata": {},
   "source": [
    "#### Select Relevant Actions with respect to thier x,y coordinates\n",
    "\n",
    "##### How does ExtractCoordinates work?\n",
    "\n",
    "```python\n",
    ">>> df\n",
    "       playerID action   x   y\n",
    "    0         1   pass  55  45\n",
    "    1         1   pass  50  40\n",
    "    2         1   shot  53  43\n",
    "    3         1   shot  54  44\n",
    "    4         2   pass  43  33\n",
    "    5         2  cross  43  23\n",
    "    6         2  cross  42  32\n",
    "    7         3   pass  17  57\n",
    "    8         3   pass  10  50\n",
    "    9         3   pass  15  55\n",
    "    \n",
    "    >>> action_coordinates = ExtractCoordinates(df=df,\n",
    "    ...                                         column_player_id='playerID',\n",
    "    ...                                         column_event_name='action',\n",
    "    ...                                         column_x='x',\n",
    "    ...                                         column_y='y',\n",
    "    ...                                         actions=['pass', 'shot', 'cross'])\n",
    "    >>> action_coordinates\n",
    "    {'pass': {1: ([55, 50], [45, 40]), 2: ([43], [33]), 3: ([17, 10, 15], [57, 50, 55])},\n",
    "     'shot': {1: ([53, 54], [43, 44])},\n",
    "     'cross': {2: ([43, 42], [23, 32])}}\n",
    "```"
   ]
  },
  {
   "cell_type": "markdown",
   "metadata": {},
   "source": [
    "## Load: Teams"
   ]
  },
  {
   "cell_type": "code",
   "execution_count": 4,
   "metadata": {},
   "outputs": [],
   "source": [
    "df_teams = pd.read_csv('event_streams/teams.csv')\n",
    "\n",
    "# Extracting Team Information\n",
    "# Mapping {teamID -> [selected attributes e.g. TeamName, City, ...]}\n",
    "teams = ExtractTeams(df=df_teams, wy_id='wyId', attributes=['name'])\n",
    "\n",
    "# Mapping {teamID -> [list of playerIDs]}\n",
    "teamID_to_playerIDs = {}\n",
    "\n",
    "# Mapping {playerID -> Player Name}\n",
    "playersID_to_name = {}\n",
    "\n",
    "for playerID, attributes in players.items():\n",
    "    first, last, teamID = attributes[0], str(attributes[1]), str(attributes[2])\n",
    "    \n",
    "    if teamID not in teamID_to_playerIDs:\n",
    "        teamID_to_playerIDs[teamID] = [playerID]\n",
    "    else:\n",
    "        teamID_to_playerIDs[teamID].append(playerID)\n",
    "    \n",
    "    if playerID not in playersID_to_name:\n",
    "        playersID_to_name[playerID] = f'{first} {last}'"
   ]
  },
  {
   "cell_type": "markdown",
   "metadata": {},
   "source": [
    "## Create for every game player vectors"
   ]
  },
  {
   "cell_type": "code",
   "execution_count": 5,
   "metadata": {},
   "outputs": [
    {
     "name": "stdout",
     "output_type": "stream",
     "text": [
      "Number of Games in Dataset: 1941\n"
     ]
    }
   ],
   "source": [
    "game_ids = df_events['game_id'].unique()\n",
    "print(f'Number of Games in Dataset: {len(game_ids)}')"
   ]
  },
  {
   "cell_type": "code",
   "execution_count": 6,
   "metadata": {},
   "outputs": [
    {
     "name": "stderr",
     "output_type": "stream",
     "text": [
      "/var/folders/63/8txvxcxn749f_382tm389wwm0000gn/T/ipykernel_63519/3503976749.py:2: DeprecationWarning: DataFrameGroupBy.apply operated on the grouping columns. This behavior is deprecated, and in a future version of pandas the grouping columns will be excluded from the operation. Either pass `include_groups=False` to exclude the groupings or explicitly select the grouping columns after groupby to silence this warning.\n",
      "  games = df_events.groupby('game_id').apply(lambda x: x.index.tolist()).to_dict()\n"
     ]
    }
   ],
   "source": [
    "# Group action indices by game id in a list\n",
    "games = df_events.groupby('game_id').apply(lambda x: x.index.tolist()).to_dict()"
   ]
  },
  {
   "cell_type": "code",
   "execution_count": 7,
   "metadata": {},
   "outputs": [],
   "source": [
    "# Get unique game_ids in the order they appear in the DataFrame\n",
    "game_ids_in_order = df_events['game_id'].unique()\n",
    "\n",
    "# Create a dictionary with game_id as keys and corresponding DataFrames in the original order\n",
    "games_df_list = {game_id: df_events[df_events['game_id'] == game_id] for game_id in game_ids_in_order}"
   ]
  },
  {
   "cell_type": "code",
   "execution_count": 8,
   "metadata": {},
   "outputs": [],
   "source": [
    "coords = ExtractCoordinates(df=games_df_list[2500089].copy(),\n",
    "                            column_player_id='player_id',\n",
    "                            column_event_name='type_name',\n",
    "                            column_x='start_x',\n",
    "                            column_y='start_y',\n",
    "                            actions=['pass', 'cross', 'dribble', 'shot'])"
   ]
  },
  {
   "cell_type": "code",
   "execution_count": 9,
   "metadata": {},
   "outputs": [
    {
     "name": "stdout",
     "output_type": "stream",
     "text": [
      "dict_keys([93, 7989, 8125, 8284, 8296, 8351, 8433, 8643, 8726, 8925, 8980, 9127, 9179, 9206, 9277, 9285, 9433, 9637, 9739, 10108, 11669, 12242, 62224, 134102, 239411, 245813, 259531, 532949])\n",
      "([47.5, 64.3, 42.25, 53.8, 72.7, 63.25, 80.05, 40.15, 59.05, 96.85, 47.5, 59.05, 56.95, 60.099999999999994], [66.0, 80.96000000000001, 68.03999999999999, 57.16, 82.32, 73.47999999999999, 70.76, 93.88, 92.52000000000001, 83.0, 89.11999999999999, 93.2, 95.92, 92.52000000000001])\n"
     ]
    }
   ],
   "source": [
    "print(coords['pass'].keys())\n",
    "print(coords['pass'][9637])"
   ]
  },
  {
   "cell_type": "code",
   "execution_count": 10,
   "metadata": {},
   "outputs": [],
   "source": [
    "game_coordinates = []\n",
    "for i, game_id in enumerate(games_df_list):\n",
    "    df_copy = games_df_list[game_id].copy() \n",
    "    coords = ExtractCoordinates(df=df_copy,\n",
    "                                column_player_id='player_id',\n",
    "                                column_event_name='type_name',\n",
    "                                column_x='start_x',\n",
    "                                column_y='start_y',\n",
    "                                actions=['pass', 'cross', 'dribble', 'shot'])\n",
    "    game_coordinates.append(coords)"
   ]
  },
  {
   "cell_type": "code",
   "execution_count": 11,
   "metadata": {},
   "outputs": [
    {
     "name": "stdout",
     "output_type": "stream",
     "text": [
      "Number of Games: 1941\t(via games_df_list)\n",
      "Number of Games: 1941\t(via game_coordinates)\n",
      "Number of Games: 1941\t(via game_ids)\n"
     ]
    }
   ],
   "source": [
    "# Check if games are missing\n",
    "print(f'Number of Games: {len(games_df_list)}\\t(via games_df_list)')\n",
    "print(f'Number of Games: {len(game_coordinates)}\\t(via game_coordinates)')\n",
    "print(f'Number of Games: {len(game_ids)}\\t(via game_ids)')"
   ]
  },
  {
   "cell_type": "code",
   "execution_count": 12,
   "metadata": {},
   "outputs": [
    {
     "name": "stdout",
     "output_type": "stream",
     "text": [
      "Number of actions: 1946101\n"
     ]
    }
   ],
   "source": [
    "num_actions = 0\n",
    "for coord in game_coordinates:\n",
    "    num_actions += sum(\n",
    "        len(player_data[0]) \n",
    "        for action in coord.values() \n",
    "        for player_data in action.values()\n",
    "    )\n",
    "\n",
    "print(f'Number of actions: {num_actions}')"
   ]
  },
  {
   "cell_type": "code",
   "execution_count": 13,
   "metadata": {},
   "outputs": [
    {
     "name": "stdout",
     "output_type": "stream",
     "text": [
      "Processing progress: 0.00% completed (0/1941 games)\n",
      "Processing progress: 5.15% completed (100/1941 games)\n",
      "Processing progress: 10.30% completed (200/1941 games)\n",
      "Processing progress: 15.46% completed (300/1941 games)\n",
      "Processing progress: 20.61% completed (400/1941 games)\n",
      "Processing progress: 25.76% completed (500/1941 games)\n",
      "Processing progress: 30.91% completed (600/1941 games)\n",
      "Processing progress: 36.06% completed (700/1941 games)\n",
      "Processing progress: 41.22% completed (800/1941 games)\n",
      "Processing progress: 46.37% completed (900/1941 games)\n",
      "Processing progress: 51.52% completed (1000/1941 games)\n",
      "Processing progress: 56.67% completed (1100/1941 games)\n",
      "Processing progress: 61.82% completed (1200/1941 games)\n",
      "Processing progress: 66.98% completed (1300/1941 games)\n",
      "Processing progress: 72.13% completed (1400/1941 games)\n",
      "Processing progress: 77.28% completed (1500/1941 games)\n",
      "Processing progress: 82.43% completed (1600/1941 games)\n",
      "Processing progress: 87.58% completed (1700/1941 games)\n",
      "Processing progress: 92.74% completed (1800/1941 games)\n",
      "Processing progress: 97.89% completed (1900/1941 games)\n"
     ]
    }
   ],
   "source": [
    "# List of Player Vectors\n",
    "pvs = []\n",
    "verbose = True\n",
    "for i, coord in enumerate(game_coordinates):\n",
    "    PVs = PlayerVectors(actions=['shot', 'cross', 'dribble', 'pass'],\n",
    "                        sigma=4.0,\n",
    "                        components=[4, 4, 5, 5])\n",
    "    PVs.fit(coordinates=coord, minutes_played=minutes_played[i], player_names=playersID_to_name) \n",
    "    pvs.append(PVs)\n",
    "    if verbose and i % 100 == 0:\n",
    "        progress = (i / len(game_ids)) * 100 \n",
    "        print(f'Processing progress: {progress:.2f}% completed ({i}/{len(game_coordinates)} games)')"
   ]
  },
  {
   "cell_type": "code",
   "execution_count": 14,
   "metadata": {},
   "outputs": [],
   "source": [
    "names = ['game_id', 'player_id'] + [f'component{i}' for i in range(1, 19)]\n",
    "data = [names]\n",
    "for i, game_id in enumerate(game_ids_in_order):\n",
    "    for player_id, component_values in pvs[i].player_vectors.items():\n",
    "        if len(component_values) == 18: \n",
    "            if player_id in playersID_to_name:\n",
    "                entry = [game_id, player_id] + component_values\n",
    "                data.append(entry)"
   ]
  },
  {
   "cell_type": "code",
   "execution_count": 15,
   "metadata": {},
   "outputs": [],
   "source": [
    "with open ('player_vectors.csv', mode='w', newline='') as file:\n",
    "    writer = csv.writer(file)\n",
    "    writer.writerows(data)"
   ]
  }
 ],
 "metadata": {
  "kernelspec": {
   "display_name": "Python 3",
   "language": "python",
   "name": "python3"
  },
  "language_info": {
   "codemirror_mode": {
    "name": "ipython",
    "version": 3
   },
   "file_extension": ".py",
   "mimetype": "text/x-python",
   "name": "python",
   "nbconvert_exporter": "python",
   "pygments_lexer": "ipython3",
   "version": "3.12.5"
  }
 },
 "nbformat": 4,
 "nbformat_minor": 2
}
