{
 "cells": [
  {
   "cell_type": "markdown",
   "metadata": {},
   "source": [
    "# Player Vector for Messi"
   ]
  },
  {
   "cell_type": "code",
   "execution_count": 20,
   "metadata": {},
   "outputs": [],
   "source": [
    "import numpy as np\n",
    "import pandas as pd\n",
    "import seaborn as sns\n",
    "import matplotlib.pyplot as plt"
   ]
  },
  {
   "cell_type": "code",
   "execution_count": 21,
   "metadata": {},
   "outputs": [],
   "source": [
    "from scipy.ndimage import gaussian_filter\n",
    "from sklearn.decomposition import NMF"
   ]
  },
  {
   "cell_type": "markdown",
   "metadata": {},
   "source": [
    "#### Load Shots"
   ]
  },
  {
   "cell_type": "code",
   "execution_count": 22,
   "metadata": {},
   "outputs": [
    {
     "data": {
      "text/html": [
       "<div>\n",
       "<style scoped>\n",
       "    .dataframe tbody tr th:only-of-type {\n",
       "        vertical-align: middle;\n",
       "    }\n",
       "\n",
       "    .dataframe tbody tr th {\n",
       "        vertical-align: top;\n",
       "    }\n",
       "\n",
       "    .dataframe thead th {\n",
       "        text-align: right;\n",
       "    }\n",
       "</style>\n",
       "<table border=\"1\" class=\"dataframe\">\n",
       "  <thead>\n",
       "    <tr style=\"text-align: right;\">\n",
       "      <th></th>\n",
       "      <th>minute</th>\n",
       "      <th>second</th>\n",
       "      <th>team</th>\n",
       "      <th>x</th>\n",
       "      <th>y</th>\n",
       "      <th>outcome</th>\n",
       "    </tr>\n",
       "  </thead>\n",
       "  <tbody>\n",
       "    <tr>\n",
       "      <th>0</th>\n",
       "      <td>21</td>\n",
       "      <td>42</td>\n",
       "      <td>Barcelona</td>\n",
       "      <td>50.88</td>\n",
       "      <td>85.20</td>\n",
       "      <td>Saved</td>\n",
       "    </tr>\n",
       "    <tr>\n",
       "      <th>1</th>\n",
       "      <td>29</td>\n",
       "      <td>33</td>\n",
       "      <td>Barcelona</td>\n",
       "      <td>34.96</td>\n",
       "      <td>91.68</td>\n",
       "      <td>Missed</td>\n",
       "    </tr>\n",
       "    <tr>\n",
       "      <th>2</th>\n",
       "      <td>35</td>\n",
       "      <td>3</td>\n",
       "      <td>Barcelona</td>\n",
       "      <td>44.40</td>\n",
       "      <td>101.64</td>\n",
       "      <td>Saved</td>\n",
       "    </tr>\n",
       "    <tr>\n",
       "      <th>3</th>\n",
       "      <td>41</td>\n",
       "      <td>3</td>\n",
       "      <td>Barcelona</td>\n",
       "      <td>27.92</td>\n",
       "      <td>96.36</td>\n",
       "      <td>Saved</td>\n",
       "    </tr>\n",
       "    <tr>\n",
       "      <th>4</th>\n",
       "      <td>42</td>\n",
       "      <td>9</td>\n",
       "      <td>Barcelona</td>\n",
       "      <td>50.40</td>\n",
       "      <td>104.88</td>\n",
       "      <td>Saved</td>\n",
       "    </tr>\n",
       "  </tbody>\n",
       "</table>\n",
       "</div>"
      ],
      "text/plain": [
       "   minute  second       team      x       y outcome\n",
       "0      21      42  Barcelona  50.88   85.20   Saved\n",
       "1      29      33  Barcelona  34.96   91.68  Missed\n",
       "2      35       3  Barcelona  44.40  101.64   Saved\n",
       "3      41       3  Barcelona  27.92   96.36   Saved\n",
       "4      42       9  Barcelona  50.40  104.88   Saved"
      ]
     },
     "execution_count": 22,
     "metadata": {},
     "output_type": "execute_result"
    }
   ],
   "source": [
    "df_shots = pd.read_csv('Shots.csv', delimiter=';')\n",
    "df_shots.head()"
   ]
  },
  {
   "cell_type": "code",
   "execution_count": 23,
   "metadata": {},
   "outputs": [
    {
     "name": "stdout",
     "output_type": "stream",
     "text": [
      "<class 'pandas.core.frame.DataFrame'>\n",
      "RangeIndex: 20 entries, 0 to 19\n",
      "Data columns (total 6 columns):\n",
      " #   Column   Non-Null Count  Dtype  \n",
      "---  ------   --------------  -----  \n",
      " 0   minute   20 non-null     int64  \n",
      " 1   second   20 non-null     int64  \n",
      " 2   team     20 non-null     object \n",
      " 3   x        20 non-null     float64\n",
      " 4   y        20 non-null     float64\n",
      " 5   outcome  20 non-null     object \n",
      "dtypes: float64(2), int64(2), object(2)\n",
      "memory usage: 1.1+ KB\n"
     ]
    }
   ],
   "source": [
    "df_shots.info()"
   ]
  },
  {
   "cell_type": "code",
   "execution_count": 24,
   "metadata": {},
   "outputs": [
    {
     "data": {
      "text/html": [
       "<div>\n",
       "<style scoped>\n",
       "    .dataframe tbody tr th:only-of-type {\n",
       "        vertical-align: middle;\n",
       "    }\n",
       "\n",
       "    .dataframe tbody tr th {\n",
       "        vertical-align: top;\n",
       "    }\n",
       "\n",
       "    .dataframe thead th {\n",
       "        text-align: right;\n",
       "    }\n",
       "</style>\n",
       "<table border=\"1\" class=\"dataframe\">\n",
       "  <thead>\n",
       "    <tr style=\"text-align: right;\">\n",
       "      <th></th>\n",
       "      <th>minute</th>\n",
       "      <th>second</th>\n",
       "      <th>x</th>\n",
       "      <th>y</th>\n",
       "    </tr>\n",
       "  </thead>\n",
       "  <tbody>\n",
       "    <tr>\n",
       "      <th>count</th>\n",
       "      <td>20.000000</td>\n",
       "      <td>20.000000</td>\n",
       "      <td>20.000000</td>\n",
       "      <td>20.000000</td>\n",
       "    </tr>\n",
       "    <tr>\n",
       "      <th>mean</th>\n",
       "      <td>59.250000</td>\n",
       "      <td>26.100000</td>\n",
       "      <td>41.276000</td>\n",
       "      <td>98.226000</td>\n",
       "    </tr>\n",
       "    <tr>\n",
       "      <th>std</th>\n",
       "      <td>20.606271</td>\n",
       "      <td>19.726819</td>\n",
       "      <td>9.641995</td>\n",
       "      <td>7.137144</td>\n",
       "    </tr>\n",
       "    <tr>\n",
       "      <th>min</th>\n",
       "      <td>21.000000</td>\n",
       "      <td>3.000000</td>\n",
       "      <td>21.600000</td>\n",
       "      <td>85.200000</td>\n",
       "    </tr>\n",
       "    <tr>\n",
       "      <th>25%</th>\n",
       "      <td>42.000000</td>\n",
       "      <td>9.000000</td>\n",
       "      <td>34.660000</td>\n",
       "      <td>91.620000</td>\n",
       "    </tr>\n",
       "    <tr>\n",
       "      <th>50%</th>\n",
       "      <td>62.000000</td>\n",
       "      <td>22.000000</td>\n",
       "      <td>43.240000</td>\n",
       "      <td>98.280000</td>\n",
       "    </tr>\n",
       "    <tr>\n",
       "      <th>75%</th>\n",
       "      <td>77.750000</td>\n",
       "      <td>44.250000</td>\n",
       "      <td>49.080000</td>\n",
       "      <td>104.250000</td>\n",
       "    </tr>\n",
       "    <tr>\n",
       "      <th>max</th>\n",
       "      <td>89.000000</td>\n",
       "      <td>58.000000</td>\n",
       "      <td>54.560000</td>\n",
       "      <td>108.000000</td>\n",
       "    </tr>\n",
       "  </tbody>\n",
       "</table>\n",
       "</div>"
      ],
      "text/plain": [
       "          minute     second          x           y\n",
       "count  20.000000  20.000000  20.000000   20.000000\n",
       "mean   59.250000  26.100000  41.276000   98.226000\n",
       "std    20.606271  19.726819   9.641995    7.137144\n",
       "min    21.000000   3.000000  21.600000   85.200000\n",
       "25%    42.000000   9.000000  34.660000   91.620000\n",
       "50%    62.000000  22.000000  43.240000   98.280000\n",
       "75%    77.750000  44.250000  49.080000  104.250000\n",
       "max    89.000000  58.000000  54.560000  108.000000"
      ]
     },
     "execution_count": 24,
     "metadata": {},
     "output_type": "execute_result"
    }
   ],
   "source": [
    "df_shots.describe()"
   ]
  },
  {
   "cell_type": "markdown",
   "metadata": {},
   "source": [
    "#### Load passes"
   ]
  },
  {
   "cell_type": "code",
   "execution_count": 25,
   "metadata": {},
   "outputs": [
    {
     "data": {
      "text/html": [
       "<div>\n",
       "<style scoped>\n",
       "    .dataframe tbody tr th:only-of-type {\n",
       "        vertical-align: middle;\n",
       "    }\n",
       "\n",
       "    .dataframe tbody tr th {\n",
       "        vertical-align: top;\n",
       "    }\n",
       "\n",
       "    .dataframe thead th {\n",
       "        text-align: right;\n",
       "    }\n",
       "</style>\n",
       "<table border=\"1\" class=\"dataframe\">\n",
       "  <thead>\n",
       "    <tr style=\"text-align: right;\">\n",
       "      <th></th>\n",
       "      <th>player</th>\n",
       "      <th>minute</th>\n",
       "      <th>second</th>\n",
       "      <th>x</th>\n",
       "      <th>y</th>\n",
       "      <th>type</th>\n",
       "      <th>outcome</th>\n",
       "      <th>endX</th>\n",
       "      <th>endY</th>\n",
       "    </tr>\n",
       "  </thead>\n",
       "  <tbody>\n",
       "    <tr>\n",
       "      <th>0</th>\n",
       "      <td>messi</td>\n",
       "      <td>45</td>\n",
       "      <td>0</td>\n",
       "      <td>50</td>\n",
       "      <td>50</td>\n",
       "      <td>Pass</td>\n",
       "      <td>Successful</td>\n",
       "      <td>40</td>\n",
       "      <td>43</td>\n",
       "    </tr>\n",
       "    <tr>\n",
       "      <th>1</th>\n",
       "      <td>messi</td>\n",
       "      <td>45</td>\n",
       "      <td>25</td>\n",
       "      <td>63</td>\n",
       "      <td>48</td>\n",
       "      <td>Pass</td>\n",
       "      <td>Successful</td>\n",
       "      <td>75</td>\n",
       "      <td>83</td>\n",
       "    </tr>\n",
       "    <tr>\n",
       "      <th>2</th>\n",
       "      <td>messi</td>\n",
       "      <td>46</td>\n",
       "      <td>4</td>\n",
       "      <td>74</td>\n",
       "      <td>58</td>\n",
       "      <td>Pass</td>\n",
       "      <td>Successful</td>\n",
       "      <td>71</td>\n",
       "      <td>65</td>\n",
       "    </tr>\n",
       "    <tr>\n",
       "      <th>3</th>\n",
       "      <td>messi</td>\n",
       "      <td>46</td>\n",
       "      <td>7</td>\n",
       "      <td>76</td>\n",
       "      <td>68</td>\n",
       "      <td>Pass</td>\n",
       "      <td>Successful</td>\n",
       "      <td>95</td>\n",
       "      <td>78</td>\n",
       "    </tr>\n",
       "    <tr>\n",
       "      <th>4</th>\n",
       "      <td>messi</td>\n",
       "      <td>46</td>\n",
       "      <td>55</td>\n",
       "      <td>100</td>\n",
       "      <td>1</td>\n",
       "      <td>Pass</td>\n",
       "      <td>Unsuccessful</td>\n",
       "      <td>96</td>\n",
       "      <td>38</td>\n",
       "    </tr>\n",
       "  </tbody>\n",
       "</table>\n",
       "</div>"
      ],
      "text/plain": [
       "  player  minute  second    x   y  type       outcome  endX  endY\n",
       "0  messi      45       0   50  50  Pass    Successful    40    43\n",
       "1  messi      45      25   63  48  Pass    Successful    75    83\n",
       "2  messi      46       4   74  58  Pass    Successful    71    65\n",
       "3  messi      46       7   76  68  Pass    Successful    95    78\n",
       "4  messi      46      55  100   1  Pass  Unsuccessful    96    38"
      ]
     },
     "execution_count": 25,
     "metadata": {},
     "output_type": "execute_result"
    }
   ],
   "source": [
    "df_passes = pd.read_csv('Passes.csv', delimiter=';')\n",
    "df_passes.head()"
   ]
  },
  {
   "cell_type": "code",
   "execution_count": 26,
   "metadata": {},
   "outputs": [
    {
     "name": "stdout",
     "output_type": "stream",
     "text": [
      "<class 'pandas.core.frame.DataFrame'>\n",
      "RangeIndex: 49 entries, 0 to 48\n",
      "Data columns (total 9 columns):\n",
      " #   Column   Non-Null Count  Dtype \n",
      "---  ------   --------------  ----- \n",
      " 0   player   49 non-null     object\n",
      " 1   minute   49 non-null     int64 \n",
      " 2   second   49 non-null     int64 \n",
      " 3   x        49 non-null     int64 \n",
      " 4   y        49 non-null     int64 \n",
      " 5   type     49 non-null     object\n",
      " 6   outcome  49 non-null     object\n",
      " 7   endX     49 non-null     int64 \n",
      " 8   endY     49 non-null     int64 \n",
      "dtypes: int64(6), object(3)\n",
      "memory usage: 3.6+ KB\n"
     ]
    }
   ],
   "source": [
    "df_passes.info()"
   ]
  },
  {
   "cell_type": "code",
   "execution_count": 27,
   "metadata": {},
   "outputs": [
    {
     "data": {
      "text/html": [
       "<div>\n",
       "<style scoped>\n",
       "    .dataframe tbody tr th:only-of-type {\n",
       "        vertical-align: middle;\n",
       "    }\n",
       "\n",
       "    .dataframe tbody tr th {\n",
       "        vertical-align: top;\n",
       "    }\n",
       "\n",
       "    .dataframe thead th {\n",
       "        text-align: right;\n",
       "    }\n",
       "</style>\n",
       "<table border=\"1\" class=\"dataframe\">\n",
       "  <thead>\n",
       "    <tr style=\"text-align: right;\">\n",
       "      <th></th>\n",
       "      <th>minute</th>\n",
       "      <th>second</th>\n",
       "      <th>x</th>\n",
       "      <th>y</th>\n",
       "      <th>endX</th>\n",
       "      <th>endY</th>\n",
       "    </tr>\n",
       "  </thead>\n",
       "  <tbody>\n",
       "    <tr>\n",
       "      <th>count</th>\n",
       "      <td>49.000000</td>\n",
       "      <td>49.000000</td>\n",
       "      <td>49.000000</td>\n",
       "      <td>49.000000</td>\n",
       "      <td>49.000000</td>\n",
       "      <td>49.000000</td>\n",
       "    </tr>\n",
       "    <tr>\n",
       "      <th>mean</th>\n",
       "      <td>67.836735</td>\n",
       "      <td>26.775510</td>\n",
       "      <td>70.755102</td>\n",
       "      <td>41.346939</td>\n",
       "      <td>72.163265</td>\n",
       "      <td>48.673469</td>\n",
       "    </tr>\n",
       "    <tr>\n",
       "      <th>std</th>\n",
       "      <td>14.399576</td>\n",
       "      <td>15.551347</td>\n",
       "      <td>15.690404</td>\n",
       "      <td>26.666576</td>\n",
       "      <td>17.279982</td>\n",
       "      <td>26.084309</td>\n",
       "    </tr>\n",
       "    <tr>\n",
       "      <th>min</th>\n",
       "      <td>45.000000</td>\n",
       "      <td>0.000000</td>\n",
       "      <td>30.000000</td>\n",
       "      <td>1.000000</td>\n",
       "      <td>22.000000</td>\n",
       "      <td>4.000000</td>\n",
       "    </tr>\n",
       "    <tr>\n",
       "      <th>25%</th>\n",
       "      <td>56.000000</td>\n",
       "      <td>17.000000</td>\n",
       "      <td>64.000000</td>\n",
       "      <td>25.000000</td>\n",
       "      <td>63.000000</td>\n",
       "      <td>26.000000</td>\n",
       "    </tr>\n",
       "    <tr>\n",
       "      <th>50%</th>\n",
       "      <td>68.000000</td>\n",
       "      <td>25.000000</td>\n",
       "      <td>71.000000</td>\n",
       "      <td>42.000000</td>\n",
       "      <td>71.000000</td>\n",
       "      <td>52.000000</td>\n",
       "    </tr>\n",
       "    <tr>\n",
       "      <th>75%</th>\n",
       "      <td>79.000000</td>\n",
       "      <td>40.000000</td>\n",
       "      <td>79.000000</td>\n",
       "      <td>58.000000</td>\n",
       "      <td>87.000000</td>\n",
       "      <td>69.000000</td>\n",
       "    </tr>\n",
       "    <tr>\n",
       "      <th>max</th>\n",
       "      <td>94.000000</td>\n",
       "      <td>59.000000</td>\n",
       "      <td>100.000000</td>\n",
       "      <td>100.000000</td>\n",
       "      <td>98.000000</td>\n",
       "      <td>96.000000</td>\n",
       "    </tr>\n",
       "  </tbody>\n",
       "</table>\n",
       "</div>"
      ],
      "text/plain": [
       "          minute     second           x           y       endX       endY\n",
       "count  49.000000  49.000000   49.000000   49.000000  49.000000  49.000000\n",
       "mean   67.836735  26.775510   70.755102   41.346939  72.163265  48.673469\n",
       "std    14.399576  15.551347   15.690404   26.666576  17.279982  26.084309\n",
       "min    45.000000   0.000000   30.000000    1.000000  22.000000   4.000000\n",
       "25%    56.000000  17.000000   64.000000   25.000000  63.000000  26.000000\n",
       "50%    68.000000  25.000000   71.000000   42.000000  71.000000  52.000000\n",
       "75%    79.000000  40.000000   79.000000   58.000000  87.000000  69.000000\n",
       "max    94.000000  59.000000  100.000000  100.000000  98.000000  96.000000"
      ]
     },
     "execution_count": 27,
     "metadata": {},
     "output_type": "execute_result"
    }
   ],
   "source": [
    "df_passes.describe()"
   ]
  },
  {
   "cell_type": "markdown",
   "metadata": {},
   "source": [
    "## Building Player Vector"
   ]
  },
  {
   "cell_type": "code",
   "execution_count": 28,
   "metadata": {},
   "outputs": [],
   "source": [
    "# Extract x, y coordinates from dataframe\n",
    "x_shot, y_shot = df_shots['x'], df_shots['y']\n",
    "x_pass, y_pass = df_passes['x'], df_passes['y']\n",
    "\n",
    "# Parameters for heatmap\n",
    "N, M = 25, 25\n",
    "sigma = 1.5\n",
    "k = 4"
   ]
  },
  {
   "cell_type": "markdown",
   "metadata": {},
   "source": [
    "### 1. Calculating Heatmaps\n",
    "#### 1.1 Counting"
   ]
  },
  {
   "cell_type": "code",
   "execution_count": 29,
   "metadata": {},
   "outputs": [],
   "source": [
    "X_shot, _, _ = np.histogram2d(x_shot, y_shot, bins=[N, M])\n",
    "X_pass, _, _ = np.histogram2d(x_pass, y_pass, bins=[N, M])"
   ]
  },
  {
   "cell_type": "code",
   "execution_count": 30,
   "metadata": {},
   "outputs": [
    {
     "data": {
      "image/png": "[encoded data removed]",
      "text/plain": [
       "<Figure size 1600x500 with 4 Axes>"
      ]
     },
     "metadata": {},
     "output_type": "display_data"
    }
   ],
   "source": [
    "fig, axs = plt.subplots(nrows=1, ncols=2, figsize=(16, 5))\n",
    "sns.heatmap(X_shot, ax=axs[0])\n",
    "axs[0].set_title('Messi raw counts of action: Shot')\n",
    "sns.heatmap(X_pass, ax=axs[1])\n",
    "axs[1].set_title('Messi raw counts of action: Pass')\n",
    "plt.tight_layout()\n",
    "plt.show()"
   ]
  },
  {
   "cell_type": "markdown",
   "metadata": {},
   "source": [
    "#### 1.2 Normalization: Skip this part for now"
   ]
  },
  {
   "cell_type": "markdown",
   "metadata": {},
   "source": [
    "#### 1.3 Smoothing"
   ]
  },
  {
   "cell_type": "code",
   "execution_count": 31,
   "metadata": {},
   "outputs": [],
   "source": [
    "# Apply gaussian filter\n",
    "X_shot, X_pass = gaussian_filter(X_shot, sigma=sigma), gaussian_filter(X_pass, sigma=sigma)"
   ]
  },
  {
   "cell_type": "code",
   "execution_count": 32,
   "metadata": {},
   "outputs": [
    {
     "data": {
      "image/png": "[encoded data removed]",
      "text/plain": [
       "<Figure size 1600x500 with 4 Axes>"
      ]
     },
     "metadata": {},
     "output_type": "display_data"
    }
   ],
   "source": [
    "fig, axs = plt.subplots(nrows=1, ncols=2, figsize=(16, 5))\n",
    "sns.heatmap(X_shot, ax=axs[0])\n",
    "axs[0].set_title('Messi heatmap of action: Shot')\n",
    "sns.heatmap(X_pass, ax=axs[1])\n",
    "axs[1].set_title('Messi heatmap of action: Pass')\n",
    "plt.tight_layout()\n",
    "plt.show()"
   ]
  },
  {
   "cell_type": "markdown",
   "metadata": {},
   "source": [
    "### 2. Compressing Heatmaps to Vectors"
   ]
  },
  {
   "cell_type": "markdown",
   "metadata": {},
   "source": [
    "#### 2.1 Reshaping"
   ]
  },
  {
   "cell_type": "code",
   "execution_count": 33,
   "metadata": {},
   "outputs": [
    {
     "name": "stdout",
     "output_type": "stream",
     "text": [
      "Reshaped shot matrix: (625, 1)\n",
      "Reshaped pass matrix: (625, 1)\n"
     ]
    }
   ],
   "source": [
    "X_reshape_shot = X_shot.reshape(X_shot.shape[0] * X_shot.shape[1]).reshape(-1, 1)\n",
    "X_reshape_pass = X_pass.reshape(X_pass.shape[0] * X_pass.shape[1]).reshape(-1, 1)\n",
    "print(f'Reshaped shot matrix: {X_reshape_shot.shape}')\n",
    "print(f'Reshaped pass matrix: {X_reshape_pass.shape}')"
   ]
  },
  {
   "cell_type": "markdown",
   "metadata": {},
   "source": [
    "#### NMF"
   ]
  },
  {
   "cell_type": "code",
   "execution_count": 34,
   "metadata": {},
   "outputs": [],
   "source": [
    "model_shot = NMF(n_components=k, init='random', random_state=0)\n",
    "model_pass = NMF(n_components=k, init='random', random_state=0)"
   ]
  },
  {
   "cell_type": "code",
   "execution_count": 35,
   "metadata": {},
   "outputs": [],
   "source": [
    "W_shot = model_shot.fit_transform(X_reshape_shot)\n",
    "H_shot = model_shot.components_\n",
    "\n",
    "W_pass = model_pass.fit_transform(X_reshape_pass)\n",
    "H_pass = model_pass.components_"
   ]
  },
  {
   "cell_type": "code",
   "execution_count": 36,
   "metadata": {},
   "outputs": [
    {
     "name": "stdout",
     "output_type": "stream",
     "text": [
      "Shape of W_shot: (625, 4)\n",
      "Shape of H_shot: (4, 1)\n",
      "\n",
      "Shape of W_pass: (625, 4)\n",
      "Shape of H_pass: (4, 1)\n"
     ]
    }
   ],
   "source": [
    "print(f'Shape of W_shot: {W_shot.shape}')\n",
    "print(f'Shape of H_shot: {H_shot.shape}')\n",
    "print()\n",
    "print(f'Shape of W_pass: {W_pass.shape}')\n",
    "print(f'Shape of H_pass: {H_pass.shape}')"
   ]
  },
  {
   "cell_type": "code",
   "execution_count": 37,
   "metadata": {},
   "outputs": [
    {
     "name": "stdout",
     "output_type": "stream",
     "text": [
      "[[0.15778164]\n",
      " [0.03579115]\n",
      " [0.08754099]\n",
      " [0.20043158]]\n"
     ]
    }
   ],
   "source": [
    "print(H_shot)"
   ]
  },
  {
   "cell_type": "code",
   "execution_count": 38,
   "metadata": {},
   "outputs": [
    {
     "name": "stdout",
     "output_type": "stream",
     "text": [
      "[[0.24696733]\n",
      " [0.05602201]\n",
      " [0.13702332]\n",
      " [0.31372505]]\n"
     ]
    }
   ],
   "source": [
    "print(H_pass)"
   ]
  }
 ],
 "metadata": {
  "kernelspec": {
   "display_name": "Python 3",
   "language": "python",
   "name": "python3"
  },
  "language_info": {
   "codemirror_mode": {
    "name": "ipython",
    "version": 3
   },
   "file_extension": ".py",
   "mimetype": "text/x-python",
   "name": "python",
   "nbconvert_exporter": "python",
   "pygments_lexer": "ipython3",
   "version": "3.12.5"
  }
 },
 "nbformat": 4,
 "nbformat_minor": 2
}
