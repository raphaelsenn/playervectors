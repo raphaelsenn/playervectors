{
 "cells": [
  {
   "cell_type": "markdown",
   "metadata": {},
   "source": [
    "##Get Context"
   ]
  },
  {
   "cell_type": "code",
   "execution_count": 1,
   "metadata": {},
   "outputs": [
    {
     "name": "stdout",
     "output_type": "stream",
     "text": [
      "      matchId  playerId  playersteamid  team1Id team1Side team1win  \\\n",
      "0     2517036    349099           2445     2444      home     lose   \n",
      "1     2517037     49968           2447     2482      home      win   \n",
      "2     2517038    393247           2975     2457      home     lose   \n",
      "3     2517039    366217           2481     2453      home      win   \n",
      "4     2517040     14923           2462     2449      home      win   \n",
      "...       ...       ...            ...      ...       ...      ...   \n",
      "1821  2575967     21468           3193     3315      home      tie   \n",
      "1822  2575968     20663           3163     3165      away      win   \n",
      "1823  2575959     21077           3172     3158      away      win   \n",
      "1824  2575962     22381           3194     3187      away      win   \n",
      "1825  2575964    134427           3159     3173      away     lose   \n",
      "\n",
      "      team1score  team2Id team2Side team2win  team2score  gameweek refereeId  \n",
      "0              1     2445      away      win           4        34    379444  \n",
      "1              3     2447      away     lose           1        34    384936  \n",
      "2              2     2975      away      win           6        34    387276  \n",
      "3              2     2481      away     lose           0        34    378957  \n",
      "4              1     2462      away     lose           0        34    387273  \n",
      "...          ...      ...       ...      ...         ...       ...       ...  \n",
      "1821           0     3193      away      tie           0         1    377233  \n",
      "1822           2     3163      home     lose           1         1    377254  \n",
      "1823           1     3172      home     lose           0         1    377248  \n",
      "1824           3     3194      home     lose           1         1    377252  \n",
      "1825           0     3159      home      win           3         1    377263  \n",
      "\n",
      "[1826 rows x 13 columns]\n"
     ]
    }
   ],
   "source": [
    "import src.ConditionData as CData\n",
    "import src.ConditionFunc as CFunc\n",
    "import pandas as pd\n",
    "\n",
    "match_context_df = pd.DataFrame(columns=[\"matchId\",\"playerId\", \"playersteamid\" ,\"team1Id\", \"team1Side\",\"team1win\",\"team1score\", \"team2Id\", \"team2Side\",\"team2win\",\"team2score\",\"gameweek\",  \"refereeId\" ])\n",
    "for link in [\"data/matches_Germany.csv\",\"data/matches_Spain.csv\",\"data/matches_France.csv\",\"data/matches_England.csv\",\"data/matches_Italy.csv\"]:\n",
    "    dict_kontext={}\n",
    "    func1 = CFunc.get_match_context(dict_kontext)\n",
    "    cdata_match_kontex = CData.ConditionData(\"test1\", [],[func1],[], link) \n",
    "    cdata_match_kontex.create_conditionData() \n",
    "\n",
    "    #dict to dataframe\n",
    "    for i in dict_kontext.keys():\n",
    "\n",
    "        match_context_df.loc[len(match_context_df)] = [i, #matchid\n",
    "                    dict_kontext[i][0][0], #player id\n",
    "                    dict_kontext[i][0][1],#playersteamid\n",
    "                    dict_kontext[i][1][0],#team1Id\n",
    "                dict_kontext[i][1][1],#team1Side\n",
    "                dict_kontext[i][1][2],#team1win\n",
    "                dict_kontext[i][1][3],#team1score\n",
    "                dict_kontext[i][2][0],#team2Id\n",
    "                dict_kontext[i][2][1],#team2Side\n",
    "                dict_kontext[i][2][2],#team2win\n",
    "                dict_kontext[i][2][3],#team2score\n",
    "                dict_kontext[i][1][4],#gameweek\n",
    "                dict_kontext[i][1][5] ]#referee\n",
    "    \n",
    "\n",
    "cdata_match_kontex.rewrite= []\n",
    "cdata_match_kontex.dataset = match_context_df\n",
    "cdata_match_kontex.create_conditionData(read_again_csv=False)\n",
    "cdata_match_kontex.creat_file(\"data/contex_match\")\n",
    "\n",
    "print(match_context_df)                \n",
    "    "
   ]
  }
 ],
 "metadata": {
  "kernelspec": {
   "display_name": ".venv",
   "language": "python",
   "name": "python3"
  },
  "language_info": {
   "codemirror_mode": {
    "name": "ipython",
    "version": 3
   },
   "file_extension": ".py",
   "mimetype": "text/x-python",
   "name": "python",
   "nbconvert_exporter": "python",
   "pygments_lexer": "ipython3",
   "version": "3.12.3"
  }
 },
 "nbformat": 4,
 "nbformat_minor": 2
}
