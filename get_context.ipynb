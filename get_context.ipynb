{
 "cells": [
  {
   "cell_type": "markdown",
   "metadata": {},
   "source": [
    "##Get Context"
   ]
  },
  {
   "cell_type": "code",
   "execution_count": 1,
   "metadata": {},
   "outputs": [
    {
     "name": "stdout",
     "output_type": "stream",
     "text": [
      "       matchId  playerId  playersteamid  team1Id team1Side team1win  \\\n",
      "0      2517036    209091           2444     2444      home     lose   \n",
      "1      2517036     14732           2444     2444      home     lose   \n",
      "2      2517036     14726           2444     2444      home     lose   \n",
      "3      2517036     14736           2444     2444      home     lose   \n",
      "4      2517036     14817           2444     2444      home     lose   \n",
      "...        ...       ...            ...      ...       ...      ...   \n",
      "40167  2575964     70084           3159     3173      away     lose   \n",
      "40168  2575964     14943           3159     3173      away     lose   \n",
      "40169  2575964     20443           3159     3173      away     lose   \n",
      "40170  2575964     89186           3159     3173      away     lose   \n",
      "40171  2575964    134427           3159     3173      away     lose   \n",
      "\n",
      "       team1score  team2Id team2Side team2win  team2score  gameweek refereeId  \n",
      "0               1     2445      away      win           4        34    379444  \n",
      "1               1     2445      away      win           4        34    379444  \n",
      "2               1     2445      away      win           4        34    379444  \n",
      "3               1     2445      away      win           4        34    379444  \n",
      "4               1     2445      away      win           4        34    379444  \n",
      "...           ...      ...       ...      ...         ...       ...       ...  \n",
      "40167           0     3159      home      win           3         1    377263  \n",
      "40168           0     3159      home      win           3         1    377263  \n",
      "40169           0     3159      home      win           3         1    377263  \n",
      "40170           0     3159      home      win           3         1    377263  \n",
      "40171           0     3159      home      win           3         1    377263  \n",
      "\n",
      "[40172 rows x 13 columns]\n"
     ]
    }
   ],
   "source": [
    "import src.ConditionData as CData\n",
    "import src.ConditionFunc as CFunc\n",
    "import pandas as pd\n",
    "\n",
    "match_context_df = pd.DataFrame(columns=[\"matchId\",\"playerId\", \"playersteamid\" ,\"team1Id\", \"team1Side\",\"team1win\",\"team1score\", \"team2Id\", \"team2Side\",\"team2win\",\"team2score\",\"gameweek\",  \"refereeId\" ])\n",
    "for link in [\"data/matches_Germany.csv\",\"data/matches_Spain.csv\",\"data/matches_France.csv\",\"data/matches_England.csv\",\"data/matches_Italy.csv\"]:\n",
    "    dict_kontext={}\n",
    "    func1 = CFunc.get_match_context(dict_kontext)\n",
    "    cdata_match_kontex = CData.ConditionData(\"test1\", [],[func1],[], link) \n",
    "    cdata_match_kontex.create_conditionData() \n",
    "\n",
    "    #dict to dataframe\n",
    "    for i in dict_kontext.keys():\n",
    "\n",
    "        match_context_df.loc[len(match_context_df)] = [i[0], #matchid\n",
    "                    dict_kontext[i][0][0], #player id\n",
    "                    dict_kontext[i][0][1],#playersteamid\n",
    "                    dict_kontext[i][1][0],#team1Id\n",
    "                dict_kontext[i][1][1],#team1Side\n",
    "                dict_kontext[i][1][2],#team1win\n",
    "                dict_kontext[i][1][3],#team1score\n",
    "                dict_kontext[i][2][0],#team2Id\n",
    "                dict_kontext[i][2][1],#team2Side\n",
    "                dict_kontext[i][2][2],#team2win\n",
    "                dict_kontext[i][2][3],#team2score\n",
    "                dict_kontext[i][1][4],#gameweek\n",
    "                dict_kontext[i][1][5] ]#referee\n",
    "    \n",
    "\n",
    "cdata_match_kontex.rewrite= []\n",
    "cdata_match_kontex.dataset = match_context_df\n",
    "cdata_match_kontex.create_conditionData(read_again_csv=False)\n",
    "cdata_match_kontex.creat_file(\"data/contex_match\")\n",
    "\n",
    "print(match_context_df)                \n",
    "    "
   ]
  }
 ],
 "metadata": {
  "kernelspec": {
   "display_name": ".venv",
   "language": "python",
   "name": "python3"
  },
  "language_info": {
   "codemirror_mode": {
    "name": "ipython",
    "version": 3
   },
   "file_extension": ".py",
   "mimetype": "text/x-python",
   "name": "python",
   "nbconvert_exporter": "python",
   "pygments_lexer": "ipython3",
   "version": "3.12.3"
  }
 },
 "nbformat": 4,
 "nbformat_minor": 2
}
