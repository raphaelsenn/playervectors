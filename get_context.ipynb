{
 "cells": [
  {
   "cell_type": "markdown",
   "metadata": {},
   "source": [
    "##Get Context"
   ]
  },
  {
   "cell_type": "code",
   "execution_count": 1,
   "metadata": {},
   "outputs": [
    {
     "name": "stdout",
     "output_type": "stream",
     "text": [
      "      matchId  team1Id team1Side team1win  team1score  team2Id team2Side  \\\n",
      "0     2517036     2444      home     lose           1     2445      away   \n",
      "1     2517037     2482      home      win           3     2447      away   \n",
      "2     2517038     2457      home     lose           2     2975      away   \n",
      "3     2517039     2453      home      win           2     2481      away   \n",
      "4     2517040     2449      home      win           1     2462      away   \n",
      "...       ...      ...       ...      ...         ...      ...       ...   \n",
      "1821  2575967     3315      home      tie           0     3193      away   \n",
      "1822  2575968     3165      away      win           2     3163      home   \n",
      "1823  2575959     3158      away      win           1     3172      home   \n",
      "1824  2575962     3187      away      win           3     3194      home   \n",
      "1825  2575964     3173      away     lose           0     3159      home   \n",
      "\n",
      "     team2win  team2score  gameweek refereeId  \n",
      "0         win           4        34    379444  \n",
      "1        lose           1        34    384936  \n",
      "2         win           6        34    387276  \n",
      "3        lose           0        34    378957  \n",
      "4        lose           0        34    387273  \n",
      "...       ...         ...       ...       ...  \n",
      "1821      tie           0         1    377233  \n",
      "1822     lose           1         1    377254  \n",
      "1823     lose           0         1    377248  \n",
      "1824     lose           1         1    377252  \n",
      "1825      win           3         1    377263  \n",
      "\n",
      "[1826 rows x 11 columns]\n"
     ]
    }
   ],
   "source": [
    "import src.ConditionData as CData\n",
    "import src.ConditionFunc as CFunc\n",
    "import pandas as pd\n",
    "\n",
    "match_context_df = pd.DataFrame(columns=[\"matchId\", \"team1Id\", \"team1Side\",\"team1win\",\"team1score\", \"team2Id\", \"team2Side\",\"team2win\",\"team2score\",\"gameweek\",  \"refereeId\" ])\n",
    "for link in [\"data/matches_Germany.csv\",\"data/matches_Spain.csv\",\"data/matches_France.csv\",\"data/matches_England.csv\",\"data/matches_Italy.csv\"]:\n",
    "    dict_kontext={}\n",
    "    func1 = CFunc.get_match_context(dict_kontext)\n",
    "    cdata_match_kontex = CData.ConditionData(\"test1\", [],[func1],[], link) \n",
    "    cdata_match_kontex.create_conditionData() \n",
    "\n",
    "    #dict to dataframe\n",
    "    for i in dict_kontext.keys():\n",
    "\n",
    "        match_context_df.loc[len(match_context_df)] = [i, #matchid\n",
    "                    dict_kontext[i][0][0],#team1Id\n",
    "                dict_kontext[i][0][1],#team1Side\n",
    "                dict_kontext[i][0][2],#team1win\n",
    "                dict_kontext[i][0][3],#team1score\n",
    "                dict_kontext[i][1][0],#team2Id\n",
    "                dict_kontext[i][1][1],#team2Side\n",
    "                dict_kontext[i][1][2],#team2win\n",
    "                dict_kontext[i][1][3],#team2score\n",
    "                dict_kontext[i][0][4],#gameweek\n",
    "                dict_kontext[i][0][5] ]#referee\n",
    "    \n",
    "\n",
    "cdata_match_kontex.rewrite= []\n",
    "cdata_match_kontex.dataset = match_context_df\n",
    "cdata_match_kontex.create_conditionData(read_again_csv=False)\n",
    "cdata_match_kontex.creat_file(\"data/contex_match\")\n",
    "\n",
    "print(match_context_df)                \n",
    "    "
   ]
  }
 ],
 "metadata": {
  "kernelspec": {
   "display_name": ".venv",
   "language": "python",
   "name": "python3"
  },
  "language_info": {
   "codemirror_mode": {
    "name": "ipython",
    "version": 3
   },
   "file_extension": ".py",
   "mimetype": "text/x-python",
   "name": "python",
   "nbconvert_exporter": "python",
   "pygments_lexer": "ipython3",
   "version": "3.12.3"
  }
 },
 "nbformat": 4,
 "nbformat_minor": 2
}
